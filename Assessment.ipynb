{
  "cells": [
    {
      "cell_type": "markdown",
      "metadata": {
        "id": "view-in-github",
        "colab_type": "text"
      },
      "source": [
        "<a href=\"https://colab.research.google.com/github/danielaquaries20/TugasML_3/blob/main/Assessment.ipynb\" target=\"_parent\"><img src=\"https://colab.research.google.com/assets/colab-badge.svg\" alt=\"Open In Colab\"/></a>"
      ]
    },
    {
      "cell_type": "code",
      "execution_count": null,
      "metadata": {
        "id": "u8Sr4QGxu_lV"
      },
      "outputs": [],
      "source": [
        "from tensorflow import keras\n",
        "\n",
        "base_model = keras.applications.VGG16(\n",
        "    weights='imagenet',\n",
        "    input_shape=(224, 224, 3),\n",
        "    include_top=False)"
      ]
    },
    {
      "cell_type": "code",
      "execution_count": null,
      "metadata": {
        "id": "yuBvWWKPu_lY"
      },
      "outputs": [],
      "source": [
        "# Freeze base model\n",
        "base_model.trainable = False"
      ]
    },
    {
      "cell_type": "code",
      "execution_count": null,
      "metadata": {
        "id": "Ugpibe_pu_lZ"
      },
      "outputs": [],
      "source": [
        "# Create inputs with correct shape\n",
        "inputs = keras.Input(shape=(224,224,3))\n",
        "\n",
        "x = base_model(inputs, training=False)\n",
        "\n",
        "# Add pooling layer or flatten layer\n",
        "x = keras.layers.GlobalAveragePooling2D()(x)\n",
        "\n",
        "# Add final dense layer\n",
        "outputs = keras.layers.Dense(6, activation = 'softmax')(x)\n",
        "\n",
        "# Combine inputs and outputs to create model\n",
        "model = keras.Model(inputs,outputs)"
      ]
    },
    {
      "cell_type": "code",
      "execution_count": null,
      "metadata": {
        "id": "SfioXljVu_la",
        "outputId": "8b1924e1-b999-46d8-e921-31df73efe53e"
      },
      "outputs": [
        {
          "name": "stdout",
          "output_type": "stream",
          "text": [
            "Model: \"model\"\n",
            "_________________________________________________________________\n",
            "Layer (type)                 Output Shape              Param #   \n",
            "=================================================================\n",
            "input_2 (InputLayer)         [(None, 224, 224, 3)]     0         \n",
            "_________________________________________________________________\n",
            "vgg16 (Model)                (None, 7, 7, 512)         14714688  \n",
            "_________________________________________________________________\n",
            "global_average_pooling2d (Gl (None, 512)               0         \n",
            "_________________________________________________________________\n",
            "dense (Dense)                (None, 6)                 3078      \n",
            "=================================================================\n",
            "Total params: 14,717,766\n",
            "Trainable params: 3,078\n",
            "Non-trainable params: 14,714,688\n",
            "_________________________________________________________________\n"
          ]
        }
      ],
      "source": [
        "model.summary()"
      ]
    },
    {
      "cell_type": "code",
      "execution_count": null,
      "metadata": {
        "id": "koIlCwf3u_ld"
      },
      "outputs": [],
      "source": [
        "model.compile(loss = 'categorical_crossentropy' , metrics = ['accuracy'])"
      ]
    },
    {
      "cell_type": "code",
      "execution_count": null,
      "metadata": {
        "id": "8tivhGC2u_le"
      },
      "outputs": [],
      "source": [
        "from tensorflow.keras.preprocessing.image import ImageDataGenerator\n",
        "\n",
        "datagen = ImageDataGenerator(rotation_range=10,width_shift_range=0.1,zoom_range=0.1,height_shift_range=0.1,vertical_flip=False,horizontal_flip=True)"
      ]
    },
    {
      "cell_type": "code",
      "execution_count": null,
      "metadata": {
        "id": "RowCzOaLu_lf",
        "outputId": "7d213997-6d04-452b-ba21-40f9fe4b77b4"
      },
      "outputs": [
        {
          "name": "stdout",
          "output_type": "stream",
          "text": [
            "Found 1182 images belonging to 6 classes.\n",
            "Found 329 images belonging to 6 classes.\n"
          ]
        }
      ],
      "source": [
        "# load and iterate training dataset\n",
        "train_it = datagen.flow_from_directory('data/fruits/train',\n",
        "                                       target_size=(224,224),\n",
        "                                       color_mode='rgb',\n",
        "                                       class_mode=\"categorical\")\n",
        "# load and iterate validation dataset\n",
        "valid_it = datagen.flow_from_directory('data/fruits/valid',\n",
        "                                      target_size=(224,224),\n",
        "                                      color_mode='rgb',\n",
        "                                      class_mode=\"categorical\")"
      ]
    },
    {
      "cell_type": "code",
      "execution_count": null,
      "metadata": {
        "id": "84TZFqClu_lg",
        "outputId": "465b486c-80b1-4372-a1df-c31b5bc28096"
      },
      "outputs": [
        {
          "name": "stdout",
          "output_type": "stream",
          "text": [
            "Epoch 1/20\n",
            "37/36 [==============================] - 28s 744ms/step - loss: 3.1211 - accuracy: 0.4027 - val_loss: 1.3383 - val_accuracy: 0.6292\n",
            "Epoch 2/20\n",
            "37/36 [==============================] - 19s 512ms/step - loss: 0.8975 - accuracy: 0.7487 - val_loss: 0.7246 - val_accuracy: 0.7933\n",
            "Epoch 3/20\n",
            "37/36 [==============================] - 19s 507ms/step - loss: 0.4340 - accuracy: 0.8629 - val_loss: 0.3902 - val_accuracy: 0.8815\n",
            "Epoch 4/20\n",
            "37/36 [==============================] - 19s 511ms/step - loss: 0.3068 - accuracy: 0.9103 - val_loss: 0.2657 - val_accuracy: 0.9119\n",
            "Epoch 5/20\n",
            "37/36 [==============================] - 19s 507ms/step - loss: 0.2233 - accuracy: 0.9222 - val_loss: 0.3717 - val_accuracy: 0.8936\n",
            "Epoch 6/20\n",
            "37/36 [==============================] - 19s 506ms/step - loss: 0.1647 - accuracy: 0.9459 - val_loss: 0.2025 - val_accuracy: 0.9422\n",
            "Epoch 7/20\n",
            "37/36 [==============================] - 19s 509ms/step - loss: 0.1169 - accuracy: 0.9535 - val_loss: 0.2948 - val_accuracy: 0.8997\n",
            "Epoch 8/20\n",
            "37/36 [==============================] - 19s 506ms/step - loss: 0.1122 - accuracy: 0.9611 - val_loss: 0.3727 - val_accuracy: 0.9088\n",
            "Epoch 9/20\n",
            "37/36 [==============================] - 19s 507ms/step - loss: 0.1011 - accuracy: 0.9619 - val_loss: 0.1637 - val_accuracy: 0.9422\n",
            "Epoch 10/20\n",
            "37/36 [==============================] - 19s 509ms/step - loss: 0.0846 - accuracy: 0.9695 - val_loss: 0.1716 - val_accuracy: 0.9362\n",
            "Epoch 11/20\n",
            "37/36 [==============================] - 18s 499ms/step - loss: 0.0742 - accuracy: 0.9738 - val_loss: 0.2018 - val_accuracy: 0.9483\n",
            "Epoch 12/20\n",
            "37/36 [==============================] - 19s 509ms/step - loss: 0.0608 - accuracy: 0.9814 - val_loss: 0.1984 - val_accuracy: 0.9544\n",
            "Epoch 13/20\n",
            "37/36 [==============================] - 19s 506ms/step - loss: 0.0508 - accuracy: 0.9831 - val_loss: 0.1645 - val_accuracy: 0.9514\n",
            "Epoch 14/20\n",
            "37/36 [==============================] - 19s 510ms/step - loss: 0.0473 - accuracy: 0.9856 - val_loss: 0.1207 - val_accuracy: 0.9666\n",
            "Epoch 15/20\n",
            "37/36 [==============================] - 19s 508ms/step - loss: 0.0409 - accuracy: 0.9805 - val_loss: 0.1889 - val_accuracy: 0.9514\n",
            "Epoch 16/20\n",
            "37/36 [==============================] - 19s 509ms/step - loss: 0.0534 - accuracy: 0.9797 - val_loss: 0.2306 - val_accuracy: 0.9453\n",
            "Epoch 17/20\n",
            "37/36 [==============================] - 19s 506ms/step - loss: 0.0368 - accuracy: 0.9856 - val_loss: 0.0902 - val_accuracy: 0.9605\n",
            "Epoch 18/20\n",
            "37/36 [==============================] - 19s 506ms/step - loss: 0.0419 - accuracy: 0.9856 - val_loss: 0.1378 - val_accuracy: 0.9696\n",
            "Epoch 19/20\n",
            "37/36 [==============================] - 19s 510ms/step - loss: 0.0372 - accuracy: 0.9865 - val_loss: 0.2627 - val_accuracy: 0.9422\n",
            "Epoch 20/20\n",
            "37/36 [==============================] - 19s 507ms/step - loss: 0.0245 - accuracy: 0.9915 - val_loss: 0.1711 - val_accuracy: 0.9544\n"
          ]
        },
        {
          "data": {
            "text/plain": [
              "<tensorflow.python.keras.callbacks.History at 0x7f68c06d2dd8>"
            ]
          },
          "execution_count": 8,
          "metadata": {},
          "output_type": "execute_result"
        }
      ],
      "source": [
        "model.fit(train_it,\n",
        "          validation_data=valid_it,\n",
        "          steps_per_epoch=train_it.samples/train_it.batch_size,\n",
        "          validation_steps=valid_it.samples/valid_it.batch_size,\n",
        "          epochs=20)"
      ]
    },
    {
      "cell_type": "code",
      "execution_count": null,
      "metadata": {
        "id": "vxKgfTIIu_lh"
      },
      "outputs": [],
      "source": [
        "# Unfreeze the base model\n",
        "base_model.trainable = FIXME\n",
        "\n",
        "# Compile the model with a low learning rate\n",
        "model.compile(optimizer=keras.optimizers.RMSprop(learning_rate = FIXME),\n",
        "              loss = FIXME , metrics = FIXME)"
      ]
    },
    {
      "cell_type": "code",
      "execution_count": null,
      "metadata": {
        "id": "9uQgGP45u_lh"
      },
      "outputs": [],
      "source": [
        "model.fit(FIXME,\n",
        "          validation_data=FIXME,\n",
        "          steps_per_epoch=train_it.samples/train_it.batch_size,\n",
        "          validation_steps=valid_it.samples/valid_it.batch_size,\n",
        "          epochs=FIXME)"
      ]
    },
    {
      "cell_type": "code",
      "execution_count": null,
      "metadata": {
        "id": "zilyrscou_li",
        "outputId": "482b17f3-6c6d-4e23-cc88-7f9812c20ee7"
      },
      "outputs": [
        {
          "name": "stdout",
          "output_type": "stream",
          "text": [
            "11/10 [================================] - 4s 332ms/step - loss: 0.1570 - accuracy: 0.9574\n"
          ]
        },
        {
          "data": {
            "text/plain": [
              "[0.157026469707489, 0.957446813583374]"
            ]
          },
          "execution_count": 9,
          "metadata": {},
          "output_type": "execute_result"
        }
      ],
      "source": [
        "model.evaluate(valid_it, steps=valid_it.samples/valid_it.batch_size)"
      ]
    },
    {
      "cell_type": "code",
      "execution_count": null,
      "metadata": {
        "id": "-9J4QFLJu_lj"
      },
      "outputs": [],
      "source": [
        "from run_assessment import run_assessment"
      ]
    },
    {
      "cell_type": "code",
      "execution_count": null,
      "metadata": {
        "id": "w1CMuOQou_lk",
        "outputId": "4aab039b-c278-41d0-8829-a8a9c8949b7e"
      },
      "outputs": [
        {
          "name": "stdout",
          "output_type": "stream",
          "text": [
            "Evaluating model 5 times to obtain average accuracy...\n",
            "\n",
            "11/10 [================================] - 4s 362ms/step - loss: 0.1314 - accuracy: 0.9605\n",
            "11/10 [================================] - 4s 325ms/step - loss: 0.1613 - accuracy: 0.9605\n",
            "11/10 [================================] - 4s 344ms/step - loss: 0.1483 - accuracy: 0.9635\n",
            "11/10 [================================] - 4s 332ms/step - loss: 0.1207 - accuracy: 0.9666\n",
            "11/10 [================================] - 4s 335ms/step - loss: 0.1624 - accuracy: 0.9574\n",
            "\n",
            "Accuracy required to pass the assessment is 0.92 or greater.\n",
            "Your average accuracy is 0.9617.\n",
            "\n",
            "Congratulations! You passed the assessment!\n",
            "See instructions below to generate a certificate.\n"
          ]
        }
      ],
      "source": [
        "run_assessment(model, valid_it)"
      ]
    }
  ],
  "metadata": {
    "kernelspec": {
      "display_name": "Python 3",
      "language": "python",
      "name": "python3"
    },
    "language_info": {
      "codemirror_mode": {
        "name": "ipython",
        "version": 3
      },
      "file_extension": ".py",
      "mimetype": "text/x-python",
      "name": "python",
      "nbconvert_exporter": "python",
      "pygments_lexer": "ipython3",
      "version": "3.6.9"
    },
    "colab": {
      "provenance": [],
      "include_colab_link": true
    }
  },
  "nbformat": 4,
  "nbformat_minor": 0
}